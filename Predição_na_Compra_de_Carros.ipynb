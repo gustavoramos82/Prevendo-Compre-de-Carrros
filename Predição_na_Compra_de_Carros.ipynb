{
  "nbformat": 4,
  "nbformat_minor": 0,
  "metadata": {
    "colab": {
      "name": "Predição na Compra de Carros.ipynb",
      "provenance": [],
      "authorship_tag": "ABX9TyMgbslPRiJSaJA9VAuMPsOw",
      "include_colab_link": true
    },
    "kernelspec": {
      "name": "python3",
      "display_name": "Python 3"
    },
    "language_info": {
      "name": "python"
    }
  },
  "cells": [
    {
      "cell_type": "markdown",
      "metadata": {
        "id": "view-in-github",
        "colab_type": "text"
      },
      "source": [
        "<a href=\"https://colab.research.google.com/github/gustavoramos82/Prevendo-Compre-de-Carrros/blob/main/Predi%C3%A7%C3%A3o_na_Compra_de_Carros.ipynb\" target=\"_parent\"><img src=\"https://colab.research.google.com/assets/colab-badge.svg\" alt=\"Open In Colab\"/></a>"
      ]
    },
    {
      "cell_type": "markdown",
      "source": [
        "# Predição na Aquisição de Carro"
      ],
      "metadata": {
        "id": "Oy_cMSuefMD5"
      }
    },
    {
      "cell_type": "markdown",
      "source": [
        "Neste projeto é baseado neste dataset do kaggle(disponivel [aqui](https://www.kaggle.com/datasets/gabrielsantello/cars-purchase-decision-dataset)) cujo objetivo é desenvolver um modelo de machine learning para prever se o cliente ira comprar o carro ou não, com base nos dados do cliente como idade, genero e salário anual, seguindo a metodologia do CRISP-DM.\n",
        "\n",
        "\n",
        "## Metodologia Crisp-dm\n",
        "![crispdm](https://2315530342-files.gitbook.io/~/files/v0/b/gitbook-x-prod.appspot.com/o/spaces%2Fb66bdV3JnCYJ5yeWf5dy%2Fuploads%2Fgit-blob-e3eea337334d513c6bceedd362fbd336cd41817d%2Fcrisp_dm.drawio.png?alt=media)"
      ],
      "metadata": {
        "id": "Sm53xxCdfVbP"
      }
    },
    {
      "cell_type": "markdown",
      "source": [
        "# Entendimento dos Dados"
      ],
      "metadata": {
        "id": "OsHmo7KZgkqu"
      }
    },
    {
      "cell_type": "code",
      "execution_count": null,
      "metadata": {
        "id": "fw8FbhtmfBkN"
      },
      "outputs": [],
      "source": [
        "# Importando os módulos\n",
        "import numpy as np\n",
        "import pandas as pd\n",
        "import matplotlib.pyplot as plt\n",
        "import seaborn as sns"
      ]
    },
    {
      "cell_type": "code",
      "source": [
        "compra = pd.read_csv('car_data.csv')\n",
        "compra.head()"
      ],
      "metadata": {
        "colab": {
          "base_uri": "https://localhost:8080/",
          "height": 206
        },
        "id": "p6go3mNTgpic",
        "outputId": "49df13d3-dc20-4583-c8b0-0ec47f82df24"
      },
      "execution_count": null,
      "outputs": [
        {
          "output_type": "execute_result",
          "data": {
            "text/plain": [
              "   User ID Gender  Age  AnnualSalary  Purchased\n",
              "0      385   Male   35         20000          0\n",
              "1      681   Male   40         43500          0\n",
              "2      353   Male   49         74000          0\n",
              "3      895   Male   40        107500          1\n",
              "4      661   Male   25         79000          0"
            ],
            "text/html": [
              "\n",
              "  <div id=\"df-f59575ed-915c-49e2-ac44-092a981af1f7\">\n",
              "    <div class=\"colab-df-container\">\n",
              "      <div>\n",
              "<style scoped>\n",
              "    .dataframe tbody tr th:only-of-type {\n",
              "        vertical-align: middle;\n",
              "    }\n",
              "\n",
              "    .dataframe tbody tr th {\n",
              "        vertical-align: top;\n",
              "    }\n",
              "\n",
              "    .dataframe thead th {\n",
              "        text-align: right;\n",
              "    }\n",
              "</style>\n",
              "<table border=\"1\" class=\"dataframe\">\n",
              "  <thead>\n",
              "    <tr style=\"text-align: right;\">\n",
              "      <th></th>\n",
              "      <th>User ID</th>\n",
              "      <th>Gender</th>\n",
              "      <th>Age</th>\n",
              "      <th>AnnualSalary</th>\n",
              "      <th>Purchased</th>\n",
              "    </tr>\n",
              "  </thead>\n",
              "  <tbody>\n",
              "    <tr>\n",
              "      <th>0</th>\n",
              "      <td>385</td>\n",
              "      <td>Male</td>\n",
              "      <td>35</td>\n",
              "      <td>20000</td>\n",
              "      <td>0</td>\n",
              "    </tr>\n",
              "    <tr>\n",
              "      <th>1</th>\n",
              "      <td>681</td>\n",
              "      <td>Male</td>\n",
              "      <td>40</td>\n",
              "      <td>43500</td>\n",
              "      <td>0</td>\n",
              "    </tr>\n",
              "    <tr>\n",
              "      <th>2</th>\n",
              "      <td>353</td>\n",
              "      <td>Male</td>\n",
              "      <td>49</td>\n",
              "      <td>74000</td>\n",
              "      <td>0</td>\n",
              "    </tr>\n",
              "    <tr>\n",
              "      <th>3</th>\n",
              "      <td>895</td>\n",
              "      <td>Male</td>\n",
              "      <td>40</td>\n",
              "      <td>107500</td>\n",
              "      <td>1</td>\n",
              "    </tr>\n",
              "    <tr>\n",
              "      <th>4</th>\n",
              "      <td>661</td>\n",
              "      <td>Male</td>\n",
              "      <td>25</td>\n",
              "      <td>79000</td>\n",
              "      <td>0</td>\n",
              "    </tr>\n",
              "  </tbody>\n",
              "</table>\n",
              "</div>\n",
              "      <button class=\"colab-df-convert\" onclick=\"convertToInteractive('df-f59575ed-915c-49e2-ac44-092a981af1f7')\"\n",
              "              title=\"Convert this dataframe to an interactive table.\"\n",
              "              style=\"display:none;\">\n",
              "        \n",
              "  <svg xmlns=\"http://www.w3.org/2000/svg\" height=\"24px\"viewBox=\"0 0 24 24\"\n",
              "       width=\"24px\">\n",
              "    <path d=\"M0 0h24v24H0V0z\" fill=\"none\"/>\n",
              "    <path d=\"M18.56 5.44l.94 2.06.94-2.06 2.06-.94-2.06-.94-.94-2.06-.94 2.06-2.06.94zm-11 1L8.5 8.5l.94-2.06 2.06-.94-2.06-.94L8.5 2.5l-.94 2.06-2.06.94zm10 10l.94 2.06.94-2.06 2.06-.94-2.06-.94-.94-2.06-.94 2.06-2.06.94z\"/><path d=\"M17.41 7.96l-1.37-1.37c-.4-.4-.92-.59-1.43-.59-.52 0-1.04.2-1.43.59L10.3 9.45l-7.72 7.72c-.78.78-.78 2.05 0 2.83L4 21.41c.39.39.9.59 1.41.59.51 0 1.02-.2 1.41-.59l7.78-7.78 2.81-2.81c.8-.78.8-2.07 0-2.86zM5.41 20L4 18.59l7.72-7.72 1.47 1.35L5.41 20z\"/>\n",
              "  </svg>\n",
              "      </button>\n",
              "      \n",
              "  <style>\n",
              "    .colab-df-container {\n",
              "      display:flex;\n",
              "      flex-wrap:wrap;\n",
              "      gap: 12px;\n",
              "    }\n",
              "\n",
              "    .colab-df-convert {\n",
              "      background-color: #E8F0FE;\n",
              "      border: none;\n",
              "      border-radius: 50%;\n",
              "      cursor: pointer;\n",
              "      display: none;\n",
              "      fill: #1967D2;\n",
              "      height: 32px;\n",
              "      padding: 0 0 0 0;\n",
              "      width: 32px;\n",
              "    }\n",
              "\n",
              "    .colab-df-convert:hover {\n",
              "      background-color: #E2EBFA;\n",
              "      box-shadow: 0px 1px 2px rgba(60, 64, 67, 0.3), 0px 1px 3px 1px rgba(60, 64, 67, 0.15);\n",
              "      fill: #174EA6;\n",
              "    }\n",
              "\n",
              "    [theme=dark] .colab-df-convert {\n",
              "      background-color: #3B4455;\n",
              "      fill: #D2E3FC;\n",
              "    }\n",
              "\n",
              "    [theme=dark] .colab-df-convert:hover {\n",
              "      background-color: #434B5C;\n",
              "      box-shadow: 0px 1px 3px 1px rgba(0, 0, 0, 0.15);\n",
              "      filter: drop-shadow(0px 1px 2px rgba(0, 0, 0, 0.3));\n",
              "      fill: #FFFFFF;\n",
              "    }\n",
              "  </style>\n",
              "\n",
              "      <script>\n",
              "        const buttonEl =\n",
              "          document.querySelector('#df-f59575ed-915c-49e2-ac44-092a981af1f7 button.colab-df-convert');\n",
              "        buttonEl.style.display =\n",
              "          google.colab.kernel.accessAllowed ? 'block' : 'none';\n",
              "\n",
              "        async function convertToInteractive(key) {\n",
              "          const element = document.querySelector('#df-f59575ed-915c-49e2-ac44-092a981af1f7');\n",
              "          const dataTable =\n",
              "            await google.colab.kernel.invokeFunction('convertToInteractive',\n",
              "                                                     [key], {});\n",
              "          if (!dataTable) return;\n",
              "\n",
              "          const docLinkHtml = 'Like what you see? Visit the ' +\n",
              "            '<a target=\"_blank\" href=https://colab.research.google.com/notebooks/data_table.ipynb>data table notebook</a>'\n",
              "            + ' to learn more about interactive tables.';\n",
              "          element.innerHTML = '';\n",
              "          dataTable['output_type'] = 'display_data';\n",
              "          await google.colab.output.renderOutput(dataTable, element);\n",
              "          const docLink = document.createElement('div');\n",
              "          docLink.innerHTML = docLinkHtml;\n",
              "          element.appendChild(docLink);\n",
              "        }\n",
              "      </script>\n",
              "    </div>\n",
              "  </div>\n",
              "  "
            ]
          },
          "metadata": {},
          "execution_count": 99
        }
      ]
    },
    {
      "cell_type": "markdown",
      "source": [
        "### Dicionário dos Dados\n",
        "- **User ID**: ID do cliente.\n",
        "- **Gender**: Genero do cliente.\n",
        "- **Age**: Idade do cliente.\n",
        "- **AnnualSalary**: Salário Anual.\n",
        "- **Purchased**: Se adquiriu o carro."
      ],
      "metadata": {
        "id": "gtev82Vzg60U"
      }
    },
    {
      "cell_type": "code",
      "source": [
        "# Eliminar a coluna User id já que o mesmo não será importante para análise nem para modelagem\n",
        "compra.drop('User ID',axis=1,inplace=True)"
      ],
      "metadata": {
        "id": "auNtouBXhcXY"
      },
      "execution_count": null,
      "outputs": []
    },
    {
      "cell_type": "code",
      "source": [
        "plt.figure(figsize=(10,5))\n",
        "plt.title('Quantidade de Classificadores no Dataset')\n",
        "plt.pie(compra['Purchased'].value_counts(),shadow=True,autopct='%1.2f',\n",
        "        labels=compra['Purchased'].value_counts().index);"
      ],
      "metadata": {
        "colab": {
          "base_uri": "https://localhost:8080/",
          "height": 319
        },
        "id": "sektuKXMhwoS",
        "outputId": "6cf02d21-0a63-41ce-e3f4-8fe0c027db5e"
      },
      "execution_count": null,
      "outputs": [
        {
          "output_type": "display_data",
          "data": {
            "text/plain": [
              "<Figure size 720x360 with 1 Axes>"
            ],
            "image/png": "[encoded data removed]"
          },
          "metadata": {}
        }
      ]
    },
    {
      "cell_type": "code",
      "source": [
        "plt.title('Quantidade de compras por genero')\n",
        "sns.set(style='darkgrid')\n",
        "sns.barplot(x='Purchased',y='Gender',data=compra)\n",
        "plt.xlabel('Quantidade de compras')\n",
        "plt.ylabel('Gênero')"
      ],
      "metadata": {
        "colab": {
          "base_uri": "https://localhost:8080/",
          "height": 318
        },
        "id": "DSYgPJDsiaxn",
        "outputId": "5ffff278-1d07-4fb1-fff1-b82e90d8287a"
      },
      "execution_count": null,
      "outputs": [
        {
          "output_type": "execute_result",
          "data": {
            "text/plain": [
              "Text(0, 0.5, 'Gênero')"
            ]
          },
          "metadata": {},
          "execution_count": 102
        },
        {
          "output_type": "display_data",
          "data": {
            "text/plain": [
              "<Figure size 432x288 with 1 Axes>"
            ],
            "image/png": "[encoded data removed]"
          },
          "metadata": {}
        }
      ]
    },
    {
      "cell_type": "code",
      "source": [
        "sns.boxplot(x='Gender',y='AnnualSalary',data=compra)"
      ],
      "metadata": {
        "colab": {
          "base_uri": "https://localhost:8080/",
          "height": 302
        },
        "id": "-8w443PgjiAT",
        "outputId": "8d70934b-fb97-4be6-b7cd-c04e1e252b6a"
      },
      "execution_count": null,
      "outputs": [
        {
          "output_type": "execute_result",
          "data": {
            "text/plain": [
              "<matplotlib.axes._subplots.AxesSubplot at 0x7f432de4a950>"
            ]
          },
          "metadata": {},
          "execution_count": 103
        },
        {
          "output_type": "display_data",
          "data": {
            "text/plain": [
              "<Figure size 432x288 with 1 Axes>"
            ],
            "image/png": "[encoded data removed]"
          },
          "metadata": {}
        }
      ]
    },
    {
      "cell_type": "code",
      "source": [
        "plt.figure(figsize=(13,5))\n",
        "plt.title('Distribuição da idade por genero',fontsize=14)\n",
        "sns.histplot(x='Age',data=compra,hue='Gender',kde=True)\n",
        "plt.xlabel('Idade')\n",
        "plt.ylabel('Quantidade')"
      ],
      "metadata": {
        "colab": {
          "base_uri": "https://localhost:8080/",
          "height": 373
        },
        "id": "2qkit9m0j4HK",
        "outputId": "25aae184-4cf1-40d8-e118-2fd40c674e9e"
      },
      "execution_count": null,
      "outputs": [
        {
          "output_type": "execute_result",
          "data": {
            "text/plain": [
              "Text(0, 0.5, 'Quantidade')"
            ]
          },
          "metadata": {},
          "execution_count": 104
        },
        {
          "output_type": "display_data",
          "data": {
            "text/plain": [
              "<Figure size 936x360 with 1 Axes>"
            ],
            "image/png": "[encoded data removed]"
          },
          "metadata": {}
        }
      ]
    },
    {
      "cell_type": "code",
      "source": [
        "plt.figure(figsize=(15,5))\n",
        "plt.title('Gráfico de Relação entre Idade e Salário Anual',fontsize=14)\n",
        "sns.scatterplot(x='Age',y='AnnualSalary',data=compra,hue='Purchased')\n",
        "plt.xlabel('Idade')\n",
        "plt.ylabel('Salário Anual')\n",
        "plt.legend(title='Comprou?');"
      ],
      "metadata": {
        "colab": {
          "base_uri": "https://localhost:8080/",
          "height": 357
        },
        "id": "d_Cp5YZmkGdC",
        "outputId": "d35ff398-8ba8-4d79-8b40-c5f97cf0e6d9"
      },
      "execution_count": null,
      "outputs": [
        {
          "output_type": "display_data",
          "data": {
            "text/plain": [
              "<Figure size 1080x360 with 1 Axes>"
            ],
            "image/png": "[encoded data removed]"
          },
          "metadata": {}
        }
      ]
    },
    {
      "cell_type": "code",
      "source": [
        "sns.boxplot(x='Purchased',y='AnnualSalary',data=compra)"
      ],
      "metadata": {
        "colab": {
          "base_uri": "https://localhost:8080/",
          "height": 302
        },
        "id": "7R_jmluamAyF",
        "outputId": "a229110c-0730-4fb0-93e2-27046fa96ebc"
      },
      "execution_count": null,
      "outputs": [
        {
          "output_type": "execute_result",
          "data": {
            "text/plain": [
              "<matplotlib.axes._subplots.AxesSubplot at 0x7f432dd3ebd0>"
            ]
          },
          "metadata": {},
          "execution_count": 106
        },
        {
          "output_type": "display_data",
          "data": {
            "text/plain": [
              "<Figure size 432x288 with 1 Axes>"
            ],
            "image/png": "[encoded data removed]"
          },
          "metadata": {}
        }
      ]
    },
    {
      "cell_type": "markdown",
      "source": [
        "## Preparação dos Dados"
      ],
      "metadata": {
        "id": "PkGQRGJ0mQOe"
      }
    },
    {
      "cell_type": "code",
      "source": [
        "# Mudando o Genero para dados categóricos\n",
        "compra['Gender'] = compra['Gender'].map({'Male':0,'Female':1})"
      ],
      "metadata": {
        "id": "tKigIqf-mXIs"
      },
      "execution_count": null,
      "outputs": []
    },
    {
      "cell_type": "code",
      "source": [
        "# Verificando dados nulos\n",
        "compra.isna().sum()"
      ],
      "metadata": {
        "colab": {
          "base_uri": "https://localhost:8080/"
        },
        "id": "_J6XNZnJnC56",
        "outputId": "d6f9040d-ff38-47ee-bb81-d18d25fdb448"
      },
      "execution_count": null,
      "outputs": [
        {
          "output_type": "execute_result",
          "data": {
            "text/plain": [
              "Gender          0\n",
              "Age             0\n",
              "AnnualSalary    0\n",
              "Purchased       0\n",
              "dtype: int64"
            ]
          },
          "metadata": {},
          "execution_count": 108
        }
      ]
    },
    {
      "cell_type": "code",
      "source": [
        "compra.head()"
      ],
      "metadata": {
        "colab": {
          "base_uri": "https://localhost:8080/",
          "height": 206
        },
        "id": "UXn3IzvgmrAn",
        "outputId": "6e76f785-9a73-4591-cb3d-02f9886c11f8"
      },
      "execution_count": null,
      "outputs": [
        {
          "output_type": "execute_result",
          "data": {
            "text/plain": [
              "   Gender  Age  AnnualSalary  Purchased\n",
              "0       0   35         20000          0\n",
              "1       0   40         43500          0\n",
              "2       0   49         74000          0\n",
              "3       0   40        107500          1\n",
              "4       0   25         79000          0"
            ],
            "text/html": [
              "\n",
              "  <div id=\"df-635df26a-f883-441f-a4c5-5f13ba2c3bdf\">\n",
              "    <div class=\"colab-df-container\">\n",
              "      <div>\n",
              "<style scoped>\n",
              "    .dataframe tbody tr th:only-of-type {\n",
              "        vertical-align: middle;\n",
              "    }\n",
              "\n",
              "    .dataframe tbody tr th {\n",
              "        vertical-align: top;\n",
              "    }\n",
              "\n",
              "    .dataframe thead th {\n",
              "        text-align: right;\n",
              "    }\n",
              "</style>\n",
              "<table border=\"1\" class=\"dataframe\">\n",
              "  <thead>\n",
              "    <tr style=\"text-align: right;\">\n",
              "      <th></th>\n",
              "      <th>Gender</th>\n",
              "      <th>Age</th>\n",
              "      <th>AnnualSalary</th>\n",
              "      <th>Purchased</th>\n",
              "    </tr>\n",
              "  </thead>\n",
              "  <tbody>\n",
              "    <tr>\n",
              "      <th>0</th>\n",
              "      <td>0</td>\n",
              "      <td>35</td>\n",
              "      <td>20000</td>\n",
              "      <td>0</td>\n",
              "    </tr>\n",
              "    <tr>\n",
              "      <th>1</th>\n",
              "      <td>0</td>\n",
              "      <td>40</td>\n",
              "      <td>43500</td>\n",
              "      <td>0</td>\n",
              "    </tr>\n",
              "    <tr>\n",
              "      <th>2</th>\n",
              "      <td>0</td>\n",
              "      <td>49</td>\n",
              "      <td>74000</td>\n",
              "      <td>0</td>\n",
              "    </tr>\n",
              "    <tr>\n",
              "      <th>3</th>\n",
              "      <td>0</td>\n",
              "      <td>40</td>\n",
              "      <td>107500</td>\n",
              "      <td>1</td>\n",
              "    </tr>\n",
              "    <tr>\n",
              "      <th>4</th>\n",
              "      <td>0</td>\n",
              "      <td>25</td>\n",
              "      <td>79000</td>\n",
              "      <td>0</td>\n",
              "    </tr>\n",
              "  </tbody>\n",
              "</table>\n",
              "</div>\n",
              "      <button class=\"colab-df-convert\" onclick=\"convertToInteractive('df-635df26a-f883-441f-a4c5-5f13ba2c3bdf')\"\n",
              "              title=\"Convert this dataframe to an interactive table.\"\n",
              "              style=\"display:none;\">\n",
              "        \n",
              "  <svg xmlns=\"http://www.w3.org/2000/svg\" height=\"24px\"viewBox=\"0 0 24 24\"\n",
              "       width=\"24px\">\n",
              "    <path d=\"M0 0h24v24H0V0z\" fill=\"none\"/>\n",
              "    <path d=\"M18.56 5.44l.94 2.06.94-2.06 2.06-.94-2.06-.94-.94-2.06-.94 2.06-2.06.94zm-11 1L8.5 8.5l.94-2.06 2.06-.94-2.06-.94L8.5 2.5l-.94 2.06-2.06.94zm10 10l.94 2.06.94-2.06 2.06-.94-2.06-.94-.94-2.06-.94 2.06-2.06.94z\"/><path d=\"M17.41 7.96l-1.37-1.37c-.4-.4-.92-.59-1.43-.59-.52 0-1.04.2-1.43.59L10.3 9.45l-7.72 7.72c-.78.78-.78 2.05 0 2.83L4 21.41c.39.39.9.59 1.41.59.51 0 1.02-.2 1.41-.59l7.78-7.78 2.81-2.81c.8-.78.8-2.07 0-2.86zM5.41 20L4 18.59l7.72-7.72 1.47 1.35L5.41 20z\"/>\n",
              "  </svg>\n",
              "      </button>\n",
              "      \n",
              "  <style>\n",
              "    .colab-df-container {\n",
              "      display:flex;\n",
              "      flex-wrap:wrap;\n",
              "      gap: 12px;\n",
              "    }\n",
              "\n",
              "    .colab-df-convert {\n",
              "      background-color: #E8F0FE;\n",
              "      border: none;\n",
              "      border-radius: 50%;\n",
              "      cursor: pointer;\n",
              "      display: none;\n",
              "      fill: #1967D2;\n",
              "      height: 32px;\n",
              "      padding: 0 0 0 0;\n",
              "      width: 32px;\n",
              "    }\n",
              "\n",
              "    .colab-df-convert:hover {\n",
              "      background-color: #E2EBFA;\n",
              "      box-shadow: 0px 1px 2px rgba(60, 64, 67, 0.3), 0px 1px 3px 1px rgba(60, 64, 67, 0.15);\n",
              "      fill: #174EA6;\n",
              "    }\n",
              "\n",
              "    [theme=dark] .colab-df-convert {\n",
              "      background-color: #3B4455;\n",
              "      fill: #D2E3FC;\n",
              "    }\n",
              "\n",
              "    [theme=dark] .colab-df-convert:hover {\n",
              "      background-color: #434B5C;\n",
              "      box-shadow: 0px 1px 3px 1px rgba(0, 0, 0, 0.15);\n",
              "      filter: drop-shadow(0px 1px 2px rgba(0, 0, 0, 0.3));\n",
              "      fill: #FFFFFF;\n",
              "    }\n",
              "  </style>\n",
              "\n",
              "      <script>\n",
              "        const buttonEl =\n",
              "          document.querySelector('#df-635df26a-f883-441f-a4c5-5f13ba2c3bdf button.colab-df-convert');\n",
              "        buttonEl.style.display =\n",
              "          google.colab.kernel.accessAllowed ? 'block' : 'none';\n",
              "\n",
              "        async function convertToInteractive(key) {\n",
              "          const element = document.querySelector('#df-635df26a-f883-441f-a4c5-5f13ba2c3bdf');\n",
              "          const dataTable =\n",
              "            await google.colab.kernel.invokeFunction('convertToInteractive',\n",
              "                                                     [key], {});\n",
              "          if (!dataTable) return;\n",
              "\n",
              "          const docLinkHtml = 'Like what you see? Visit the ' +\n",
              "            '<a target=\"_blank\" href=https://colab.research.google.com/notebooks/data_table.ipynb>data table notebook</a>'\n",
              "            + ' to learn more about interactive tables.';\n",
              "          element.innerHTML = '';\n",
              "          dataTable['output_type'] = 'display_data';\n",
              "          await google.colab.output.renderOutput(dataTable, element);\n",
              "          const docLink = document.createElement('div');\n",
              "          docLink.innerHTML = docLinkHtml;\n",
              "          element.appendChild(docLink);\n",
              "        }\n",
              "      </script>\n",
              "    </div>\n",
              "  </div>\n",
              "  "
            ]
          },
          "metadata": {},
          "execution_count": 109
        }
      ]
    },
    {
      "cell_type": "markdown",
      "source": [
        "## Modelagem"
      ],
      "metadata": {
        "id": "YPz2D628nTym"
      }
    },
    {
      "cell_type": "code",
      "source": [
        "# Importando os comando do sklearn\n",
        "from sklearn.preprocessing import StandardScaler\n",
        "from sklearn.model_selection import cross_validate\n",
        "from sklearn.naive_bayes import GaussianNB\n",
        "from sklearn.linear_model import LogisticRegression\n",
        "from sklearn.tree import DecisionTreeClassifier\n",
        "from sklearn.ensemble import RandomForestClassifier, GradientBoostingClassifier, BaggingClassifier\n",
        "from sklearn.neighbors import KNeighborsClassifier\n",
        "from sklearn.svm import SVC"
      ],
      "metadata": {
        "id": "bsMHL1lknRwI"
      },
      "execution_count": null,
      "outputs": []
    },
    {
      "cell_type": "code",
      "source": [
        "x = compra.drop('Purchased',axis=1)\n",
        "y = compra.Purchased\n",
        "\n",
        "x_std = StandardScaler().fit_transform(x)"
      ],
      "metadata": {
        "id": "yGY1kct0nqDB"
      },
      "execution_count": null,
      "outputs": []
    },
    {
      "cell_type": "code",
      "source": [
        "metricas = ['accuracy','precision','recall']\n",
        "naive = GaussianNB()\n",
        "cross_n = cross_validate(naive,x_std,y,cv=10,scoring=metricas)\n",
        "for met in cross_n:\n",
        "  if met == 'fit_time' or met == 'score_time':\n",
        "    pass\n",
        "  else:\n",
        "    print(met)\n",
        "    print(cross_n[met])\n",
        "    media = np.mean(cross_n[met])\n",
        "    std = np.std(cross_n[met])\n",
        "    print('media',media)\n",
        "    print('desvio',std)\n",
        "    \n",
        "\n",
        "    print('-*-'*10)"
      ],
      "metadata": {
        "colab": {
          "base_uri": "https://localhost:8080/"
        },
        "id": "CR-h2HZmn-mn",
        "outputId": "53d4c470-4e64-412b-e22e-2c0b663093f6"
      },
      "execution_count": null,
      "outputs": [
        {
          "output_type": "stream",
          "name": "stdout",
          "text": [
            "test_accuracy\n",
            "[0.91 0.84 0.9  0.85 0.92 0.9  0.82 0.9  0.84 0.89]\n",
            "media 0.877\n",
            "desvio 0.0337786915081091\n",
            "-*--*--*--*--*--*--*--*--*--*-\n",
            "test_precision\n",
            "[0.91891892 0.78571429 0.89473684 0.82051282 0.94444444 0.91666667\n",
            " 0.775      0.875      0.90322581 0.85714286]\n",
            "media 0.869136264195687\n",
            "desvio 0.055307854396657\n",
            "-*--*--*--*--*--*--*--*--*--*-\n",
            "test_recall\n",
            "[0.85       0.825      0.85       0.8        0.85       0.825\n",
            " 0.775      0.875      0.68292683 0.87804878]\n",
            "media 0.8210975609756097\n",
            "desvio 0.055087810493441566\n",
            "-*--*--*--*--*--*--*--*--*--*-\n"
          ]
        }
      ]
    },
    {
      "cell_type": "code",
      "source": [
        "lg = LogisticRegression()\n",
        "cross_lg = cross_validate(lg,x_std,y,cv=10,scoring=metricas)\n",
        "for met in cross_lg:\n",
        "  if met == 'fit_time' or met == 'score_time':\n",
        "    pass\n",
        "  else:\n",
        "    print(met)\n",
        "    print(cross_lg[met])\n",
        "    media = np.mean(cross_lg[met])\n",
        "    std = np.std(cross_lg[met])\n",
        "    print('media',media)\n",
        "    print('desvio',std)\n",
        "    \n",
        "\n",
        "    print('-*-'*10)"
      ],
      "metadata": {
        "colab": {
          "base_uri": "https://localhost:8080/"
        },
        "id": "WGN29WaKotI5",
        "outputId": "d448368b-8f6b-4acf-b6c4-ef2cd5918d27"
      },
      "execution_count": null,
      "outputs": [
        {
          "output_type": "stream",
          "name": "stdout",
          "text": [
            "test_accuracy\n",
            "[0.84 0.8  0.87 0.77 0.88 0.9  0.83 0.84 0.79 0.8 ]\n",
            "media 0.8320000000000001\n",
            "desvio 0.04019950248448355\n",
            "-*--*--*--*--*--*--*--*--*--*-\n",
            "test_precision\n",
            "[0.9        0.73809524 0.88571429 0.72972973 0.88888889 0.91666667\n",
            " 0.79487179 0.85294118 0.8125     0.83870968]\n",
            "media 0.8358117457856545\n",
            "desvio 0.06268041105683535\n",
            "-*--*--*--*--*--*--*--*--*--*-\n",
            "test_recall\n",
            "[0.675      0.775      0.775      0.675      0.8        0.825\n",
            " 0.775      0.725      0.63414634 0.63414634]\n",
            "media 0.7293292682926829\n",
            "desvio 0.06666809499263092\n",
            "-*--*--*--*--*--*--*--*--*--*-\n"
          ]
        }
      ]
    },
    {
      "cell_type": "code",
      "source": [
        "knn = KNeighborsClassifier(n_neighbors=7)\n",
        "cross_knn = cross_validate(knn,x_std,y,cv=10,scoring=metricas)\n",
        "for met in cross_knn:\n",
        "  if met == 'fit_time' or met == 'score_time':\n",
        "    pass\n",
        "  else:\n",
        "    print(met)\n",
        "    print(cross_knn[met])\n",
        "    media = np.mean(cross_knn[met])\n",
        "    std = np.std(cross_knn[met])\n",
        "    print('media',media)\n",
        "    print('desvio',std)\n",
        "    print('-*-'*10)"
      ],
      "metadata": {
        "colab": {
          "base_uri": "https://localhost:8080/"
        },
        "id": "jJuKJjSuqy1n",
        "outputId": "a6c32e24-c568-457f-cce1-b5337c3343a3"
      },
      "execution_count": null,
      "outputs": [
        {
          "output_type": "stream",
          "name": "stdout",
          "text": [
            "test_accuracy\n",
            "[0.92 0.87 0.91 0.88 0.94 0.92 0.9  0.9  0.9  0.91]\n",
            "media 0.905\n",
            "desvio 0.019104973174542794\n",
            "-*--*--*--*--*--*--*--*--*--*-\n",
            "test_precision\n",
            "[0.88095238 0.81395349 0.87804878 0.85       0.9047619  0.88095238\n",
            " 0.85714286 0.84090909 0.8974359  0.88095238]\n",
            "media 0.8685109161966791\n",
            "desvio 0.02629903073844438\n",
            "-*--*--*--*--*--*--*--*--*--*-\n",
            "test_recall\n",
            "[0.925      0.875      0.9        0.85       0.95       0.925\n",
            " 0.9        0.925      0.85365854 0.90243902]\n",
            "media 0.900609756097561\n",
            "desvio 0.031064066131787957\n",
            "-*--*--*--*--*--*--*--*--*--*-\n"
          ]
        }
      ]
    },
    {
      "cell_type": "code",
      "source": [
        "tree = DecisionTreeClassifier()\n",
        "cross_tree = cross_validate(tree,x_std,y,cv=10,scoring=metricas)\n",
        "for met in cross_lg:\n",
        "  if met == 'fit_time' or met == 'score_time':\n",
        "    pass\n",
        "  else:\n",
        "    print(met)\n",
        "    print(cross_tree[met])\n",
        "    media = np.mean(cross_tree[met])\n",
        "    std = np.std(cross_tree[met])\n",
        "    print('media',media)\n",
        "    print('desvio',std)\n",
        "    print('-*-'*10)"
      ],
      "metadata": {
        "colab": {
          "base_uri": "https://localhost:8080/"
        },
        "id": "mo8lrZ9-pVTt",
        "outputId": "d841dc87-583e-452f-8ef4-5770dc8ed54e"
      },
      "execution_count": null,
      "outputs": [
        {
          "output_type": "stream",
          "name": "stdout",
          "text": [
            "test_accuracy\n",
            "[0.9  0.88 0.89 0.83 0.93 0.89 0.81 0.91 0.85 0.9 ]\n",
            "media 0.8789999999999999\n",
            "desvio 0.03562302626111376\n",
            "-*--*--*--*--*--*--*--*--*--*-\n",
            "test_precision\n",
            "[0.85714286 0.81818182 0.85365854 0.7804878  0.90243902 0.87179487\n",
            " 0.75609756 0.87804878 0.88235294 0.87804878]\n",
            "media 0.8478252976100897\n",
            "desvio 0.0453036099057339\n",
            "-*--*--*--*--*--*--*--*--*--*-\n",
            "test_recall\n",
            "[0.9        0.9        0.875      0.8        0.925      0.85\n",
            " 0.775      0.9        0.73170732 0.87804878]\n",
            "media 0.8534756097560976\n",
            "desvio 0.06044343991626687\n",
            "-*--*--*--*--*--*--*--*--*--*-\n"
          ]
        }
      ]
    },
    {
      "cell_type": "code",
      "source": [
        "rf = RandomForestClassifier(criterion='entropy')\n",
        "cross_rf = cross_validate(rf,x_std,y,cv=5,scoring=metricas)\n",
        "for met in cross_rf:\n",
        "  if met == 'fit_time' or met == 'score_time':\n",
        "    pass\n",
        "  else:\n",
        "    print(met)\n",
        "    print(cross_rf[met])\n",
        "    media = np.mean(cross_rf[met])\n",
        "    std = np.std(cross_rf[met])\n",
        "    print('media',media)\n",
        "    print('desvio',std)\n",
        "\n",
        "    \n",
        "\n",
        "    print('-*-'*10)"
      ],
      "metadata": {
        "colab": {
          "base_uri": "https://localhost:8080/"
        },
        "id": "uCIO5_aNqJuW",
        "outputId": "431fba63-3b9e-4466-e0da-1dc28a2c7c76"
      },
      "execution_count": null,
      "outputs": [
        {
          "output_type": "stream",
          "name": "stdout",
          "text": [
            "test_accuracy\n",
            "[0.875 0.89  0.92  0.885 0.9  ]\n",
            "media 0.8940000000000001\n",
            "desvio 0.015297058540778367\n",
            "-*--*--*--*--*--*--*--*--*--*-\n",
            "test_precision\n",
            "[0.82352941 0.8372093  0.9        0.85365854 0.8961039 ]\n",
            "media 0.8621002293559098\n",
            "desvio 0.030890679377760744\n",
            "-*--*--*--*--*--*--*--*--*--*-\n",
            "test_recall\n",
            "[0.875      0.9        0.9        0.86419753 0.85185185]\n",
            "media 0.8782098765432098\n",
            "desvio 0.019240652613699658\n",
            "-*--*--*--*--*--*--*--*--*--*-\n"
          ]
        }
      ]
    },
    {
      "cell_type": "code",
      "source": [
        "svm = SVC()\n",
        "cross_svm = cross_validate(svm,x_std,y,cv=10,scoring=metricas)\n",
        "for met in cross_svm:\n",
        "  if met == 'fit_time' or met == 'score_time':\n",
        "    pass\n",
        "  else:\n",
        "    print(met)\n",
        "    print(cross_svm[met])\n",
        "    media = np.mean(cross_svm[met])\n",
        "    std = np.std(cross_svm[met])\n",
        "    print('media',media)\n",
        "    print('desvio',std)\n",
        "\n",
        "\n",
        "    print('-*-'*10)"
      ],
      "metadata": {
        "colab": {
          "base_uri": "https://localhost:8080/"
        },
        "id": "lPMtcnoBrbVW",
        "outputId": "6a7ee9f8-405a-4c98-ea73-3eb32861a104"
      },
      "execution_count": null,
      "outputs": [
        {
          "output_type": "stream",
          "name": "stdout",
          "text": [
            "test_accuracy\n",
            "[0.92 0.86 0.9  0.87 0.91 0.92 0.89 0.91 0.9  0.93]\n",
            "media 0.901\n",
            "desvio 0.02118962010041711\n",
            "-*--*--*--*--*--*--*--*--*--*-\n",
            "test_precision\n",
            "[0.86363636 0.7826087  0.875      0.81395349 0.87804878 0.9\n",
            " 0.85365854 0.86046512 0.8974359  0.86956522]\n",
            "media 0.8594372095840074\n",
            "desvio 0.03435677487889755\n",
            "-*--*--*--*--*--*--*--*--*--*-\n",
            "test_recall\n",
            "[0.95       0.9        0.875      0.875      0.9        0.9\n",
            " 0.875      0.925      0.85365854 0.97560976]\n",
            "media 0.9029268292682928\n",
            "desvio 0.03574731200088362\n",
            "-*--*--*--*--*--*--*--*--*--*-\n"
          ]
        }
      ]
    },
    {
      "cell_type": "code",
      "source": [
        "grad = GradientBoostingClassifier()\n",
        "cross_grad = cross_validate(grad,x_std,y,cv=10,scoring=metricas)\n",
        "for met in cross_grad:\n",
        "  if met == 'fit_time' or met == 'score_time':\n",
        "    pass\n",
        "  else:\n",
        "    print(met)\n",
        "    print(cross_grad[met])\n",
        "    media = np.mean(cross_grad[met])\n",
        "    std = np.std(cross_grad[met])\n",
        "    print('media',media)\n",
        "    print('desvio',std)"
      ],
      "metadata": {
        "colab": {
          "base_uri": "https://localhost:8080/"
        },
        "id": "zsLiZoU5u-PH",
        "outputId": "3fc151d4-96bb-4921-b0b9-aca78d291aa3"
      },
      "execution_count": null,
      "outputs": [
        {
          "output_type": "stream",
          "name": "stdout",
          "text": [
            "test_accuracy\n",
            "[0.9  0.86 0.92 0.88 0.94 0.93 0.87 0.91 0.87 0.93]\n",
            "media 0.901\n",
            "desvio 0.027730849247724104\n",
            "test_precision\n",
            "[0.85714286 0.825      0.9        0.81818182 0.94736842 0.90243902\n",
            " 0.84615385 0.87804878 0.88888889 0.88636364]\n",
            "media 0.8749587272661727\n",
            "desvio 0.03718290446838415\n",
            "test_recall\n",
            "[0.9        0.825      0.9        0.9        0.9        0.925\n",
            " 0.825      0.9        0.7804878  0.95121951]\n",
            "media 0.8806707317073172\n",
            "desvio 0.05004537649480561\n"
          ]
        }
      ]
    },
    {
      "cell_type": "markdown",
      "source": [
        "## Avaliação"
      ],
      "metadata": {
        "id": "kVxa42h0xXRf"
      }
    },
    {
      "cell_type": "code",
      "source": [
        "aval = {'Modelo':['Naive Bayes','Regressão Logistica','KNN','Árvore de Decisão','Random Forest',\n",
        "                  'SVM','Gradiente Boosting'],\n",
        "        'Acuracia':[0.877,0.8320000000000001,0.905,0.8789999999999999,0.8940000000000001,0.901,0.901],\n",
        "        'Precisão':[0.869136264195687,0.8358117457856545,0.8685109161966791,0.8478252976100897,\n",
        "                    0.8621002293559098,0.8594372095840074,0.8749587272661727],\n",
        "        'Recall':[0.8210975609756097,0.7293292682926829,0.900609756097561,0.8534756097560976,\n",
        "                  0.8782098765432098,0.9029268292682928,0.8806707317073172]}\n",
        "aval = pd.DataFrame(aval) \n",
        "aval                                                       "
      ],
      "metadata": {
        "colab": {
          "base_uri": "https://localhost:8080/",
          "height": 269
        },
        "id": "7D32uWGnvRwK",
        "outputId": "cda418de-b8b4-4e83-f55e-b59c042a7432"
      },
      "execution_count": null,
      "outputs": [
        {
          "output_type": "execute_result",
          "data": {
            "text/plain": [
              "                Modelo  Acuracia  Precisão    Recall\n",
              "0          Naive Bayes     0.877  0.869136  0.821098\n",
              "1  Regressão Logistica     0.832  0.835812  0.729329\n",
              "2                  KNN     0.905  0.868511  0.900610\n",
              "3    Árvore de Decisão     0.879  0.847825  0.853476\n",
              "4        Random Forest     0.894  0.862100  0.878210\n",
              "5                  SVM     0.901  0.859437  0.902927\n",
              "6   Gradiente Boosting     0.901  0.874959  0.880671"
            ],
            "text/html": [
              "\n",
              "  <div id=\"df-da04f53e-8d5c-493c-bfd7-986c8766f5b0\">\n",
              "    <div class=\"colab-df-container\">\n",
              "      <div>\n",
              "<style scoped>\n",
              "    .dataframe tbody tr th:only-of-type {\n",
              "        vertical-align: middle;\n",
              "    }\n",
              "\n",
              "    .dataframe tbody tr th {\n",
              "        vertical-align: top;\n",
              "    }\n",
              "\n",
              "    .dataframe thead th {\n",
              "        text-align: right;\n",
              "    }\n",
              "</style>\n",
              "<table border=\"1\" class=\"dataframe\">\n",
              "  <thead>\n",
              "    <tr style=\"text-align: right;\">\n",
              "      <th></th>\n",
              "      <th>Modelo</th>\n",
              "      <th>Acuracia</th>\n",
              "      <th>Precisão</th>\n",
              "      <th>Recall</th>\n",
              "    </tr>\n",
              "  </thead>\n",
              "  <tbody>\n",
              "    <tr>\n",
              "      <th>0</th>\n",
              "      <td>Naive Bayes</td>\n",
              "      <td>0.877</td>\n",
              "      <td>0.869136</td>\n",
              "      <td>0.821098</td>\n",
              "    </tr>\n",
              "    <tr>\n",
              "      <th>1</th>\n",
              "      <td>Regressão Logistica</td>\n",
              "      <td>0.832</td>\n",
              "      <td>0.835812</td>\n",
              "      <td>0.729329</td>\n",
              "    </tr>\n",
              "    <tr>\n",
              "      <th>2</th>\n",
              "      <td>KNN</td>\n",
              "      <td>0.905</td>\n",
              "      <td>0.868511</td>\n",
              "      <td>0.900610</td>\n",
              "    </tr>\n",
              "    <tr>\n",
              "      <th>3</th>\n",
              "      <td>Árvore de Decisão</td>\n",
              "      <td>0.879</td>\n",
              "      <td>0.847825</td>\n",
              "      <td>0.853476</td>\n",
              "    </tr>\n",
              "    <tr>\n",
              "      <th>4</th>\n",
              "      <td>Random Forest</td>\n",
              "      <td>0.894</td>\n",
              "      <td>0.862100</td>\n",
              "      <td>0.878210</td>\n",
              "    </tr>\n",
              "    <tr>\n",
              "      <th>5</th>\n",
              "      <td>SVM</td>\n",
              "      <td>0.901</td>\n",
              "      <td>0.859437</td>\n",
              "      <td>0.902927</td>\n",
              "    </tr>\n",
              "    <tr>\n",
              "      <th>6</th>\n",
              "      <td>Gradiente Boosting</td>\n",
              "      <td>0.901</td>\n",
              "      <td>0.874959</td>\n",
              "      <td>0.880671</td>\n",
              "    </tr>\n",
              "  </tbody>\n",
              "</table>\n",
              "</div>\n",
              "      <button class=\"colab-df-convert\" onclick=\"convertToInteractive('df-da04f53e-8d5c-493c-bfd7-986c8766f5b0')\"\n",
              "              title=\"Convert this dataframe to an interactive table.\"\n",
              "              style=\"display:none;\">\n",
              "        \n",
              "  <svg xmlns=\"http://www.w3.org/2000/svg\" height=\"24px\"viewBox=\"0 0 24 24\"\n",
              "       width=\"24px\">\n",
              "    <path d=\"M0 0h24v24H0V0z\" fill=\"none\"/>\n",
              "    <path d=\"M18.56 5.44l.94 2.06.94-2.06 2.06-.94-2.06-.94-.94-2.06-.94 2.06-2.06.94zm-11 1L8.5 8.5l.94-2.06 2.06-.94-2.06-.94L8.5 2.5l-.94 2.06-2.06.94zm10 10l.94 2.06.94-2.06 2.06-.94-2.06-.94-.94-2.06-.94 2.06-2.06.94z\"/><path d=\"M17.41 7.96l-1.37-1.37c-.4-.4-.92-.59-1.43-.59-.52 0-1.04.2-1.43.59L10.3 9.45l-7.72 7.72c-.78.78-.78 2.05 0 2.83L4 21.41c.39.39.9.59 1.41.59.51 0 1.02-.2 1.41-.59l7.78-7.78 2.81-2.81c.8-.78.8-2.07 0-2.86zM5.41 20L4 18.59l7.72-7.72 1.47 1.35L5.41 20z\"/>\n",
              "  </svg>\n",
              "      </button>\n",
              "      \n",
              "  <style>\n",
              "    .colab-df-container {\n",
              "      display:flex;\n",
              "      flex-wrap:wrap;\n",
              "      gap: 12px;\n",
              "    }\n",
              "\n",
              "    .colab-df-convert {\n",
              "      background-color: #E8F0FE;\n",
              "      border: none;\n",
              "      border-radius: 50%;\n",
              "      cursor: pointer;\n",
              "      display: none;\n",
              "      fill: #1967D2;\n",
              "      height: 32px;\n",
              "      padding: 0 0 0 0;\n",
              "      width: 32px;\n",
              "    }\n",
              "\n",
              "    .colab-df-convert:hover {\n",
              "      background-color: #E2EBFA;\n",
              "      box-shadow: 0px 1px 2px rgba(60, 64, 67, 0.3), 0px 1px 3px 1px rgba(60, 64, 67, 0.15);\n",
              "      fill: #174EA6;\n",
              "    }\n",
              "\n",
              "    [theme=dark] .colab-df-convert {\n",
              "      background-color: #3B4455;\n",
              "      fill: #D2E3FC;\n",
              "    }\n",
              "\n",
              "    [theme=dark] .colab-df-convert:hover {\n",
              "      background-color: #434B5C;\n",
              "      box-shadow: 0px 1px 3px 1px rgba(0, 0, 0, 0.15);\n",
              "      filter: drop-shadow(0px 1px 2px rgba(0, 0, 0, 0.3));\n",
              "      fill: #FFFFFF;\n",
              "    }\n",
              "  </style>\n",
              "\n",
              "      <script>\n",
              "        const buttonEl =\n",
              "          document.querySelector('#df-da04f53e-8d5c-493c-bfd7-986c8766f5b0 button.colab-df-convert');\n",
              "        buttonEl.style.display =\n",
              "          google.colab.kernel.accessAllowed ? 'block' : 'none';\n",
              "\n",
              "        async function convertToInteractive(key) {\n",
              "          const element = document.querySelector('#df-da04f53e-8d5c-493c-bfd7-986c8766f5b0');\n",
              "          const dataTable =\n",
              "            await google.colab.kernel.invokeFunction('convertToInteractive',\n",
              "                                                     [key], {});\n",
              "          if (!dataTable) return;\n",
              "\n",
              "          const docLinkHtml = 'Like what you see? Visit the ' +\n",
              "            '<a target=\"_blank\" href=https://colab.research.google.com/notebooks/data_table.ipynb>data table notebook</a>'\n",
              "            + ' to learn more about interactive tables.';\n",
              "          element.innerHTML = '';\n",
              "          dataTable['output_type'] = 'display_data';\n",
              "          await google.colab.output.renderOutput(dataTable, element);\n",
              "          const docLink = document.createElement('div');\n",
              "          docLink.innerHTML = docLinkHtml;\n",
              "          element.appendChild(docLink);\n",
              "        }\n",
              "      </script>\n",
              "    </div>\n",
              "  </div>\n",
              "  "
            ]
          },
          "metadata": {},
          "execution_count": 148
        }
      ]
    },
    {
      "cell_type": "markdown",
      "source": [
        "Temos o então que o que saiu melhor nesse caso, claro, considerando as casas decimais foi o KNN, então vai ser aplicado uma otimização de parametros aplicando otimização bayesiana.\n"
      ],
      "metadata": {
        "id": "iKAvgvkszq8z"
      }
    },
    {
      "cell_type": "code",
      "source": [
        "!pip install scikit-optimize"
      ],
      "metadata": {
        "colab": {
          "base_uri": "https://localhost:8080/"
        },
        "id": "XVZQnIee0acN",
        "outputId": "99928357-70c9-47d6-e71b-34fe1e4e4131"
      },
      "execution_count": null,
      "outputs": [
        {
          "output_type": "stream",
          "name": "stdout",
          "text": [
            "Looking in indexes: https://pypi.org/simple, https://us-python.pkg.dev/colab-wheels/public/simple/\n",
            "Collecting scikit-optimize\n",
            "  Downloading scikit_optimize-0.9.0-py2.py3-none-any.whl (100 kB)\n",
            "\u001b[K     |████████████████████████████████| 100 kB 3.6 MB/s \n",
            "\u001b[?25hRequirement already satisfied: numpy>=1.13.3 in /usr/local/lib/python3.7/dist-packages (from scikit-optimize) (1.21.6)\n",
            "Requirement already satisfied: scipy>=0.19.1 in /usr/local/lib/python3.7/dist-packages (from scikit-optimize) (1.4.1)\n",
            "Collecting pyaml>=16.9\n",
            "  Downloading pyaml-21.10.1-py2.py3-none-any.whl (24 kB)\n",
            "Requirement already satisfied: joblib>=0.11 in /usr/local/lib/python3.7/dist-packages (from scikit-optimize) (1.1.0)\n",
            "Requirement already satisfied: scikit-learn>=0.20.0 in /usr/local/lib/python3.7/dist-packages (from scikit-optimize) (1.0.2)\n",
            "Requirement already satisfied: PyYAML in /usr/local/lib/python3.7/dist-packages (from pyaml>=16.9->scikit-optimize) (3.13)\n",
            "Requirement already satisfied: threadpoolctl>=2.0.0 in /usr/local/lib/python3.7/dist-packages (from scikit-learn>=0.20.0->scikit-optimize) (3.1.0)\n",
            "Installing collected packages: pyaml, scikit-optimize\n",
            "Successfully installed pyaml-21.10.1 scikit-optimize-0.9.0\n"
          ]
        }
      ]
    },
    {
      "cell_type": "code",
      "source": [
        "from skopt import BayesSearchCV\n",
        "parametros = {'weights':['uniform','distance'],'algorithm':['auto','ball_tree','kd_tree','brute'],\n",
        "              'p':[1,2],'n_neighbors':np.arange(1,21,1)}\n",
        "bayes = BayesSearchCV(KNeighborsClassifier(n_neighbors=7),search_spaces=parametros,cv=10).fit(x_std,y)"
      ],
      "metadata": {
        "colab": {
          "base_uri": "https://localhost:8080/"
        },
        "id": "IyAtIVnTzleg",
        "outputId": "4bc1f8b8-856d-4094-b653-862fd077497c"
      },
      "execution_count": null,
      "outputs": [
        {
          "output_type": "stream",
          "name": "stderr",
          "text": [
            "/usr/local/lib/python3.7/dist-packages/skopt/optimizer/optimizer.py:449: UserWarning: The objective has been evaluated at this point before.\n",
            "  warnings.warn(\"The objective has been evaluated \"\n",
            "/usr/local/lib/python3.7/dist-packages/skopt/optimizer/optimizer.py:449: UserWarning: The objective has been evaluated at this point before.\n",
            "  warnings.warn(\"The objective has been evaluated \"\n",
            "/usr/local/lib/python3.7/dist-packages/skopt/optimizer/optimizer.py:449: UserWarning: The objective has been evaluated at this point before.\n",
            "  warnings.warn(\"The objective has been evaluated \"\n",
            "/usr/local/lib/python3.7/dist-packages/skopt/optimizer/optimizer.py:449: UserWarning: The objective has been evaluated at this point before.\n",
            "  warnings.warn(\"The objective has been evaluated \"\n",
            "/usr/local/lib/python3.7/dist-packages/skopt/optimizer/optimizer.py:449: UserWarning: The objective has been evaluated at this point before.\n",
            "  warnings.warn(\"The objective has been evaluated \"\n",
            "/usr/local/lib/python3.7/dist-packages/skopt/optimizer/optimizer.py:449: UserWarning: The objective has been evaluated at this point before.\n",
            "  warnings.warn(\"The objective has been evaluated \"\n",
            "/usr/local/lib/python3.7/dist-packages/skopt/optimizer/optimizer.py:449: UserWarning: The objective has been evaluated at this point before.\n",
            "  warnings.warn(\"The objective has been evaluated \"\n",
            "/usr/local/lib/python3.7/dist-packages/skopt/optimizer/optimizer.py:449: UserWarning: The objective has been evaluated at this point before.\n",
            "  warnings.warn(\"The objective has been evaluated \"\n",
            "/usr/local/lib/python3.7/dist-packages/skopt/optimizer/optimizer.py:449: UserWarning: The objective has been evaluated at this point before.\n",
            "  warnings.warn(\"The objective has been evaluated \"\n",
            "/usr/local/lib/python3.7/dist-packages/skopt/optimizer/optimizer.py:449: UserWarning: The objective has been evaluated at this point before.\n",
            "  warnings.warn(\"The objective has been evaluated \"\n",
            "/usr/local/lib/python3.7/dist-packages/skopt/optimizer/optimizer.py:449: UserWarning: The objective has been evaluated at this point before.\n",
            "  warnings.warn(\"The objective has been evaluated \"\n",
            "/usr/local/lib/python3.7/dist-packages/skopt/optimizer/optimizer.py:449: UserWarning: The objective has been evaluated at this point before.\n",
            "  warnings.warn(\"The objective has been evaluated \"\n",
            "/usr/local/lib/python3.7/dist-packages/skopt/optimizer/optimizer.py:449: UserWarning: The objective has been evaluated at this point before.\n",
            "  warnings.warn(\"The objective has been evaluated \"\n",
            "/usr/local/lib/python3.7/dist-packages/skopt/optimizer/optimizer.py:449: UserWarning: The objective has been evaluated at this point before.\n",
            "  warnings.warn(\"The objective has been evaluated \"\n"
          ]
        }
      ]
    },
    {
      "cell_type": "code",
      "source": [
        "bayes.best_params_"
      ],
      "metadata": {
        "colab": {
          "base_uri": "https://localhost:8080/"
        },
        "id": "GynyxzdL2OJO",
        "outputId": "2047b294-8594-4546-e595-e7ef44ed5d9a"
      },
      "execution_count": null,
      "outputs": [
        {
          "output_type": "execute_result",
          "data": {
            "text/plain": [
              "OrderedDict([('algorithm', 'kd_tree'),\n",
              "             ('n_neighbors', 9),\n",
              "             ('p', 1),\n",
              "             ('weights', 'uniform')])"
            ]
          },
          "metadata": {},
          "execution_count": 162
        }
      ]
    },
    {
      "cell_type": "code",
      "source": [
        "knn2 = KNeighborsClassifier(n_neighbors=9,algorithm='kd_tree',p=1,\n",
        "                            weights='uniform')\n",
        "cross_knn2 = cross_validate(knn2,x_std,y,cv=10,scoring=metricas)\n",
        "for met in cross_knn2:\n",
        "  if met == 'fit_time' or met == 'score_time':\n",
        "    pass\n",
        "  else:\n",
        "    print(met)\n",
        "    print(cross_knn2[met])\n",
        "    media = np.mean(cross_knn2[met])\n",
        "    std = np.std(cross_knn2[met])\n",
        "    print('media',media)\n",
        "    print('desvio',std)\n",
        "    print('-*-'*10)"
      ],
      "metadata": {
        "colab": {
          "base_uri": "https://localhost:8080/"
        },
        "id": "7PlcPWhi2hJI",
        "outputId": "0f76cb77-d5e1-4038-9326-15b61e6fa841"
      },
      "execution_count": null,
      "outputs": [
        {
          "output_type": "stream",
          "name": "stdout",
          "text": [
            "test_accuracy\n",
            "[0.95 0.86 0.91 0.88 0.92 0.92 0.9  0.91 0.92 0.93]\n",
            "media 0.9099999999999999\n",
            "desvio 0.024083189157584593\n",
            "-*--*--*--*--*--*--*--*--*--*-\n",
            "test_precision\n",
            "[0.92682927 0.79545455 0.87804878 0.83333333 0.88095238 0.88095238\n",
            " 0.85714286 0.86046512 0.92307692 0.9047619 ]\n",
            "media 0.8741017490733883\n",
            "desvio 0.03814348384495996\n",
            "-*--*--*--*--*--*--*--*--*--*-\n",
            "test_recall\n",
            "[0.95       0.875      0.9        0.875      0.925      0.925\n",
            " 0.9        0.925      0.87804878 0.92682927]\n",
            "media 0.907987804878049\n",
            "desvio 0.024876927880056934\n",
            "-*--*--*--*--*--*--*--*--*--*-\n"
          ]
        }
      ]
    },
    {
      "cell_type": "markdown",
      "source": [
        "## Conclusão\n",
        "\n",
        "Temos que o modelo acima pode ser um bom recurso para auxiliar os vendedores e gestores em suas decisões, mas poderia ser melhorado se coletassem outras variaveis como preço do carro, ano do carro, etc que trazendo mais informações poderia melhorar o desempenho do modelo."
      ],
      "metadata": {
        "id": "qD_bIph7-4-_"
      }
    }
  ]
}